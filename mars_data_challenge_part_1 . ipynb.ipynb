{
 "cells": [
  {
   "cell_type": "code",
   "execution_count": 1,
   "id": "99fccbfb",
   "metadata": {
    "scrolled": true
   },
   "outputs": [],
   "source": [
    "# Import Splinter and BeautifulSoup\n",
    "from splinter import Browser\n",
    "from bs4 import BeautifulSoup as soup\n",
    "from webdriver_manager.chrome import ChromeDriverManager"
   ]
  },
  {
   "cell_type": "code",
   "execution_count": 2,
   "id": "32d098a4",
   "metadata": {},
   "outputs": [],
   "source": [
    "executable_path = {'executable_path': ChromeDriverManager().install()}\n",
    "browser = Browser('chrome', **executable_path, headless=False)"
   ]
  },
  {
   "cell_type": "code",
   "execution_count": 3,
   "id": "40f32041",
   "metadata": {
    "scrolled": true
   },
   "outputs": [
    {
     "data": {
      "text/plain": [
       "True"
      ]
     },
     "execution_count": 3,
     "metadata": {},
     "output_type": "execute_result"
    }
   ],
   "source": [
    "# Visit the Mars NASA news site\n",
    "url = 'https://redplanetscience.com'\n",
    "browser.visit(url)\n",
    "# Optional delay for loading the page\n",
    "browser.is_element_present_by_css('div.list_text', wait_time=1)"
   ]
  },
  {
   "cell_type": "code",
   "execution_count": 4,
   "id": "62bfad87",
   "metadata": {},
   "outputs": [],
   "source": [
    "html = browser.html\n",
    "news_soup = soup(html, 'html.parser')\n",
    "slide_elem = news_soup.select_one('div.list_text')"
   ]
  },
  {
   "cell_type": "code",
   "execution_count": 5,
   "id": "84ec88bb",
   "metadata": {},
   "outputs": [
    {
     "name": "stdout",
     "output_type": "stream",
     "text": [
      "<div class=\"content_title\">A Martian Roundtrip: NASA's Perseverance Rover Sample Tubes</div>\n"
     ]
    }
   ],
   "source": [
    "title_elem = slide_elem.find('div', class_='content_title')\n",
    "print(title_elem)"
   ]
  },
  {
   "cell_type": "code",
   "execution_count": 6,
   "id": "8c2db477",
   "metadata": {
    "scrolled": false
   },
   "outputs": [
    {
     "name": "stdout",
     "output_type": "stream",
     "text": [
      "A Martian Roundtrip: NASA's Perseverance Rover Sample Tubes\n"
     ]
    }
   ],
   "source": [
    "title = title_elem.get_text()\n",
    "print(title)"
   ]
  },
  {
   "cell_type": "code",
   "execution_count": 7,
   "id": "4dbe203c",
   "metadata": {},
   "outputs": [
    {
     "data": {
      "text/plain": [
       "\"Marvels of engineering, the rover's sample tubes must be tough enough to safely bring Red Planet samples on the long journey back to Earth in immaculate condition. \""
      ]
     },
     "execution_count": 7,
     "metadata": {},
     "output_type": "execute_result"
    }
   ],
   "source": [
    "# Use the parent element to find the paragraph text\n",
    "news_p = slide_elem.find('div', class_='article_teaser_body').text\n",
    "news_p"
   ]
  },
  {
   "cell_type": "code",
   "execution_count": 8,
   "id": "3c072331",
   "metadata": {},
   "outputs": [],
   "source": [
    "browser.quit()"
   ]
  },
  {
   "cell_type": "code",
   "execution_count": 9,
   "id": "dad82506",
   "metadata": {},
   "outputs": [
    {
     "name": "stdout",
     "output_type": "stream",
     "text": [
      "{'title': \"NASA's Perseverance Rover Bringing 3D-Printed Metal Parts to Mars\", 'preview': \"For hobbyists and makers, 3D printing expands creative possibilities; for specialized engineers, it's also key to next-generation spacecraft design.\"}\n"
     ]
    }
   ],
   "source": [
    "scraping_dict = {'title': \"NASA's Perseverance Rover Bringing 3D-Printed Metal Parts to Mars\", 'preview': \"For hobbyists and makers, 3D printing expands creative possibilities; for specialized engineers, it's also key to next-generation spacecraft design.\"}\n",
    "print(scraping_dict)"
   ]
  },
  {
   "cell_type": "code",
   "execution_count": 10,
   "id": "ddc8b8c6",
   "metadata": {},
   "outputs": [
    {
     "name": "stdout",
     "output_type": "stream",
     "text": [
      "{'title': 'NASA Updates Mars 2020 Mission Environmental Review', 'preview': \"'NASA and the Department of Energy have completed a more detailed risk analysis for the Mars 2020 rover launch from Florida.\"}\n"
     ]
    }
   ],
   "source": [
    "scraping_dict_2 = {'title': \"NASA Updates Mars 2020 Mission Environmental Review\", 'preview': \"'NASA and the Department of Energy have completed a more detailed risk analysis for the Mars 2020 rover launch from Florida.\"}\n",
    "print(scraping_dict_2)"
   ]
  },
  {
   "cell_type": "code",
   "execution_count": 11,
   "id": "17ac6f53",
   "metadata": {
    "scrolled": false
   },
   "outputs": [
    {
     "name": "stdout",
     "output_type": "stream",
     "text": [
      "{'title': 'Join NASA for the Launch of the Mars 2020 Perseverance Rover', 'preview': \"'No matter where you live, choose from a menu of activities to join NASA as we 'Countdown to Mars' and launch the Perseverance rover to the Red Planet.\"}\n"
     ]
    }
   ],
   "source": [
    "scraping_dict_3 = {'title': \"Join NASA for the Launch of the Mars 2020 Perseverance Rover\", 'preview': \"'No matter where you live, choose from a menu of activities to join NASA as we 'Countdown to Mars' and launch the Perseverance rover to the Red Planet.\"}\n",
    "print(scraping_dict_3)"
   ]
  },
  {
   "cell_type": "code",
   "execution_count": 12,
   "id": "368d44f4",
   "metadata": {},
   "outputs": [
    {
     "name": "stdout",
     "output_type": "stream",
     "text": [
      "{'title': 'AI Is Helping Scientists Discover Fresh Craters on Mars', 'preview': \"'It's the first time machine learning has been used to find previously unknown craters on the Red Planet.\"}\n"
     ]
    }
   ],
   "source": [
    "scraping_dict_4 = {'title': \"AI Is Helping Scientists Discover Fresh Craters on Mars\", 'preview': \"'It's the first time machine learning has been used to find previously unknown craters on the Red Planet.\"}\n",
    "print(scraping_dict_4)"
   ]
  },
  {
   "cell_type": "code",
   "execution_count": 13,
   "id": "60042e28",
   "metadata": {
    "scrolled": true
   },
   "outputs": [
    {
     "name": "stdout",
     "output_type": "stream",
     "text": [
      "[{'title': \"NASA's Perseverance Rover Bringing 3D-Printed Metal Parts to Mars\", 'preview': \"For hobbyists and makers, 3D printing expands creative possibilities; for specialized engineers, it's also key to next-generation spacecraft design.\"}, {'title': 'NASA Updates Mars 2020 Mission Environmental Review', 'preview': \"'NASA and the Department of Energy have completed a more detailed risk analysis for the Mars 2020 rover launch from Florida.\"}, {'title': 'Join NASA for the Launch of the Mars 2020 Perseverance Rover', 'preview': \"'No matter where you live, choose from a menu of activities to join NASA as we 'Countdown to Mars' and launch the Perseverance rover to the Red Planet.\"}, {'title': 'AI Is Helping Scientists Discover Fresh Craters on Mars', 'preview': \"'It's the first time machine learning has been used to find previously unknown craters on the Red Planet.\"}]\n"
     ]
    }
   ],
   "source": [
    "My_List = [(scraping_dict), (scraping_dict_2), (scraping_dict_3), (scraping_dict_4)]\n",
    "print(My_List)"
   ]
  }
 ],
 "metadata": {
  "kernelspec": {
   "display_name": "Python 3 (ipykernel)",
   "language": "python",
   "name": "python3"
  },
  "language_info": {
   "codemirror_mode": {
    "name": "ipython",
    "version": 3
   },
   "file_extension": ".py",
   "mimetype": "text/x-python",
   "name": "python",
   "nbconvert_exporter": "python",
   "pygments_lexer": "ipython3",
   "version": "3.9.12"
  }
 },
 "nbformat": 4,
 "nbformat_minor": 5
}
